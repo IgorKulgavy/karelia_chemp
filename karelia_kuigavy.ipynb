{
  "nbformat": 4,
  "nbformat_minor": 0,
  "metadata": {
    "colab": {
      "provenance": [],
      "collapsed_sections": []
    },
    "kernelspec": {
      "name": "python3",
      "display_name": "Python 3"
    },
    "language_info": {
      "name": "python"
    }
  },
  "cells": [
    {
      "cell_type": "markdown",
      "source": [
        "## Загрузим нужные библиотеки"
      ],
      "metadata": {
        "id": "FH0ZYdNyQzug"
      }
    },
    {
      "cell_type": "code",
      "execution_count": 9,
      "metadata": {
        "id": "BwNGqMidQiRi",
        "colab": {
          "base_uri": "https://localhost:8080/"
        },
        "outputId": "8157188d-3cc6-4b75-ed03-a16f546f52ee"
      },
      "outputs": [
        {
          "output_type": "stream",
          "name": "stdout",
          "text": [
            "Drive already mounted at /content/drive; to attempt to forcibly remount, call drive.mount(\"/content/drive\", force_remount=True).\n",
            "Looking in indexes: https://pypi.org/simple, https://us-python.pkg.dev/colab-wheels/public/simple/\n",
            "Requirement already satisfied: catboost in /usr/local/lib/python3.7/dist-packages (1.0.6)\n",
            "Requirement already satisfied: graphviz in /usr/local/lib/python3.7/dist-packages (from catboost) (0.10.1)\n",
            "Requirement already satisfied: pandas>=0.24.0 in /usr/local/lib/python3.7/dist-packages (from catboost) (1.3.5)\n",
            "Requirement already satisfied: six in /usr/local/lib/python3.7/dist-packages (from catboost) (1.15.0)\n",
            "Requirement already satisfied: plotly in /usr/local/lib/python3.7/dist-packages (from catboost) (5.5.0)\n",
            "Requirement already satisfied: scipy in /usr/local/lib/python3.7/dist-packages (from catboost) (1.7.3)\n",
            "Requirement already satisfied: numpy>=1.16.0 in /usr/local/lib/python3.7/dist-packages (from catboost) (1.21.6)\n",
            "Requirement already satisfied: matplotlib in /usr/local/lib/python3.7/dist-packages (from catboost) (3.2.2)\n",
            "Requirement already satisfied: python-dateutil>=2.7.3 in /usr/local/lib/python3.7/dist-packages (from pandas>=0.24.0->catboost) (2.8.2)\n",
            "Requirement already satisfied: pytz>=2017.3 in /usr/local/lib/python3.7/dist-packages (from pandas>=0.24.0->catboost) (2022.2.1)\n",
            "Requirement already satisfied: kiwisolver>=1.0.1 in /usr/local/lib/python3.7/dist-packages (from matplotlib->catboost) (1.4.4)\n",
            "Requirement already satisfied: pyparsing!=2.0.4,!=2.1.2,!=2.1.6,>=2.0.1 in /usr/local/lib/python3.7/dist-packages (from matplotlib->catboost) (3.0.9)\n",
            "Requirement already satisfied: cycler>=0.10 in /usr/local/lib/python3.7/dist-packages (from matplotlib->catboost) (0.11.0)\n",
            "Requirement already satisfied: typing-extensions in /usr/local/lib/python3.7/dist-packages (from kiwisolver>=1.0.1->matplotlib->catboost) (4.1.1)\n",
            "Requirement already satisfied: tenacity>=6.2.0 in /usr/local/lib/python3.7/dist-packages (from plotly->catboost) (8.0.1)\n"
          ]
        }
      ],
      "source": [
        "import pandas as pd\n",
        "import seaborn as sns\n",
        "import matplotlib.pyplot as plt\n",
        "from sklearn.model_selection import train_test_split\n",
        "from sklearn.ensemble import RandomForestClassifier\n",
        "%matplotlib inline\n",
        "from google.colab import drive, files\n",
        "drive.mount('/content/drive')\n",
        "!pip install catboost\n",
        "import catboost as cb\n",
        "from sklearn.metrics import recall_score"
      ]
    },
    {
      "cell_type": "code",
      "source": [
        "df_train = pd.read_csv('/content/drive/MyDrive/Colab_Notebooks/karelia/train.csv') # данные пользователя\n",
        "df_sample_solution = pd.read_csv('/content/drive/MyDrive/Colab_Notebooks/karelia/sample_solution.csv') \n",
        "df_named = pd.read_csv('/content/drive/MyDrive/Colab_Notebooks/karelia/named.csv') #лог днс-запросов к доменам конкурентов (rt.ru и sampo.ru)\n",
        "df_type_contract = pd.read_csv('/content/drive/MyDrive/Colab_Notebooks/karelia/type_contract.csv') #тип списания у пользователей\n",
        "df_log = pd.read_csv('/content/drive/MyDrive/Colab_Notebooks/karelia/log.csv') #содержит данные обращения пользователей\n"
      ],
      "metadata": {
        "id": "3TZUcuZ33rM5"
      },
      "execution_count": 10,
      "outputs": []
    },
    {
      "cell_type": "markdown",
      "source": [
        "## Рассмотрим датасет по ближе"
      ],
      "metadata": {
        "id": "GywlangPRAEm"
      }
    },
    {
      "cell_type": "code",
      "source": [
        "df_train.head(3)"
      ],
      "metadata": {
        "colab": {
          "base_uri": "https://localhost:8080/",
          "height": 143
        },
        "id": "gvcl_K3FQ-os",
        "outputId": "1a0372f8-8e78-4830-edb4-40b1b76b9571"
      },
      "execution_count": null,
      "outputs": [
        {
          "output_type": "execute_result",
          "data": {
            "text/plain": [
              "   contract_id  blocked\n",
              "0         7780        0\n",
              "1         7785        0\n",
              "2         7794        0"
            ],
            "text/html": [
              "\n",
              "  <div id=\"df-167b7fcc-466a-4b5f-8f6b-32346f85cc35\">\n",
              "    <div class=\"colab-df-container\">\n",
              "      <div>\n",
              "<style scoped>\n",
              "    .dataframe tbody tr th:only-of-type {\n",
              "        vertical-align: middle;\n",
              "    }\n",
              "\n",
              "    .dataframe tbody tr th {\n",
              "        vertical-align: top;\n",
              "    }\n",
              "\n",
              "    .dataframe thead th {\n",
              "        text-align: right;\n",
              "    }\n",
              "</style>\n",
              "<table border=\"1\" class=\"dataframe\">\n",
              "  <thead>\n",
              "    <tr style=\"text-align: right;\">\n",
              "      <th></th>\n",
              "      <th>contract_id</th>\n",
              "      <th>blocked</th>\n",
              "    </tr>\n",
              "  </thead>\n",
              "  <tbody>\n",
              "    <tr>\n",
              "      <th>0</th>\n",
              "      <td>7780</td>\n",
              "      <td>0</td>\n",
              "    </tr>\n",
              "    <tr>\n",
              "      <th>1</th>\n",
              "      <td>7785</td>\n",
              "      <td>0</td>\n",
              "    </tr>\n",
              "    <tr>\n",
              "      <th>2</th>\n",
              "      <td>7794</td>\n",
              "      <td>0</td>\n",
              "    </tr>\n",
              "  </tbody>\n",
              "</table>\n",
              "</div>\n",
              "      <button class=\"colab-df-convert\" onclick=\"convertToInteractive('df-167b7fcc-466a-4b5f-8f6b-32346f85cc35')\"\n",
              "              title=\"Convert this dataframe to an interactive table.\"\n",
              "              style=\"display:none;\">\n",
              "        \n",
              "  <svg xmlns=\"http://www.w3.org/2000/svg\" height=\"24px\"viewBox=\"0 0 24 24\"\n",
              "       width=\"24px\">\n",
              "    <path d=\"M0 0h24v24H0V0z\" fill=\"none\"/>\n",
              "    <path d=\"M18.56 5.44l.94 2.06.94-2.06 2.06-.94-2.06-.94-.94-2.06-.94 2.06-2.06.94zm-11 1L8.5 8.5l.94-2.06 2.06-.94-2.06-.94L8.5 2.5l-.94 2.06-2.06.94zm10 10l.94 2.06.94-2.06 2.06-.94-2.06-.94-.94-2.06-.94 2.06-2.06.94z\"/><path d=\"M17.41 7.96l-1.37-1.37c-.4-.4-.92-.59-1.43-.59-.52 0-1.04.2-1.43.59L10.3 9.45l-7.72 7.72c-.78.78-.78 2.05 0 2.83L4 21.41c.39.39.9.59 1.41.59.51 0 1.02-.2 1.41-.59l7.78-7.78 2.81-2.81c.8-.78.8-2.07 0-2.86zM5.41 20L4 18.59l7.72-7.72 1.47 1.35L5.41 20z\"/>\n",
              "  </svg>\n",
              "      </button>\n",
              "      \n",
              "  <style>\n",
              "    .colab-df-container {\n",
              "      display:flex;\n",
              "      flex-wrap:wrap;\n",
              "      gap: 12px;\n",
              "    }\n",
              "\n",
              "    .colab-df-convert {\n",
              "      background-color: #E8F0FE;\n",
              "      border: none;\n",
              "      border-radius: 50%;\n",
              "      cursor: pointer;\n",
              "      display: none;\n",
              "      fill: #1967D2;\n",
              "      height: 32px;\n",
              "      padding: 0 0 0 0;\n",
              "      width: 32px;\n",
              "    }\n",
              "\n",
              "    .colab-df-convert:hover {\n",
              "      background-color: #E2EBFA;\n",
              "      box-shadow: 0px 1px 2px rgba(60, 64, 67, 0.3), 0px 1px 3px 1px rgba(60, 64, 67, 0.15);\n",
              "      fill: #174EA6;\n",
              "    }\n",
              "\n",
              "    [theme=dark] .colab-df-convert {\n",
              "      background-color: #3B4455;\n",
              "      fill: #D2E3FC;\n",
              "    }\n",
              "\n",
              "    [theme=dark] .colab-df-convert:hover {\n",
              "      background-color: #434B5C;\n",
              "      box-shadow: 0px 1px 3px 1px rgba(0, 0, 0, 0.15);\n",
              "      filter: drop-shadow(0px 1px 2px rgba(0, 0, 0, 0.3));\n",
              "      fill: #FFFFFF;\n",
              "    }\n",
              "  </style>\n",
              "\n",
              "      <script>\n",
              "        const buttonEl =\n",
              "          document.querySelector('#df-167b7fcc-466a-4b5f-8f6b-32346f85cc35 button.colab-df-convert');\n",
              "        buttonEl.style.display =\n",
              "          google.colab.kernel.accessAllowed ? 'block' : 'none';\n",
              "\n",
              "        async function convertToInteractive(key) {\n",
              "          const element = document.querySelector('#df-167b7fcc-466a-4b5f-8f6b-32346f85cc35');\n",
              "          const dataTable =\n",
              "            await google.colab.kernel.invokeFunction('convertToInteractive',\n",
              "                                                     [key], {});\n",
              "          if (!dataTable) return;\n",
              "\n",
              "          const docLinkHtml = 'Like what you see? Visit the ' +\n",
              "            '<a target=\"_blank\" href=https://colab.research.google.com/notebooks/data_table.ipynb>data table notebook</a>'\n",
              "            + ' to learn more about interactive tables.';\n",
              "          element.innerHTML = '';\n",
              "          dataTable['output_type'] = 'display_data';\n",
              "          await google.colab.output.renderOutput(dataTable, element);\n",
              "          const docLink = document.createElement('div');\n",
              "          docLink.innerHTML = docLinkHtml;\n",
              "          element.appendChild(docLink);\n",
              "        }\n",
              "      </script>\n",
              "    </div>\n",
              "  </div>\n",
              "  "
            ]
          },
          "metadata": {},
          "execution_count": 8
        }
      ]
    },
    {
      "cell_type": "code",
      "source": [
        "df_train.info()"
      ],
      "metadata": {
        "colab": {
          "base_uri": "https://localhost:8080/"
        },
        "id": "JCh9xKV6Ka2x",
        "outputId": "802f7178-33e7-4b66-f2e4-116878f13ae5"
      },
      "execution_count": null,
      "outputs": [
        {
          "output_type": "stream",
          "name": "stdout",
          "text": [
            "<class 'pandas.core.frame.DataFrame'>\n",
            "RangeIndex: 5992 entries, 0 to 5991\n",
            "Data columns (total 2 columns):\n",
            " #   Column       Non-Null Count  Dtype\n",
            "---  ------       --------------  -----\n",
            " 0   contract_id  5992 non-null   int64\n",
            " 1   blocked      5992 non-null   int64\n",
            "dtypes: int64(2)\n",
            "memory usage: 93.8 KB\n"
          ]
        }
      ]
    },
    {
      "cell_type": "code",
      "source": [
        "df_train.blocked.value_counts()"
      ],
      "metadata": {
        "colab": {
          "base_uri": "https://localhost:8080/"
        },
        "id": "rV-_yK1a-whZ",
        "outputId": "ba3f2ba9-11e5-4b71-a295-39905c4b739e"
      },
      "execution_count": null,
      "outputs": [
        {
          "output_type": "execute_result",
          "data": {
            "text/plain": [
              "0    5294\n",
              "1     698\n",
              "Name: blocked, dtype: int64"
            ]
          },
          "metadata": {},
          "execution_count": 10
        }
      ]
    },
    {
      "cell_type": "code",
      "source": [
        "df_named.head(3)"
      ],
      "metadata": {
        "colab": {
          "base_uri": "https://localhost:8080/",
          "height": 143
        },
        "id": "zb9qIPOq4I-0",
        "outputId": "3c83aa0b-aab8-41c2-83ba-95141b5d96b2"
      },
      "execution_count": null,
      "outputs": [
        {
          "output_type": "execute_result",
          "data": {
            "text/plain": [
              "          date                      url  contract_id\n",
              "0  17-Apr-2021         webmail.sampo.ru       101397\n",
              "1  17-Apr-2021         webmail.sampo.ru       179624\n",
              "2  17-Apr-2021  tvip-provision.sampo.ru       190335"
            ],
            "text/html": [
              "\n",
              "  <div id=\"df-a5fa0eb4-978b-4f45-b621-0b118035541f\">\n",
              "    <div class=\"colab-df-container\">\n",
              "      <div>\n",
              "<style scoped>\n",
              "    .dataframe tbody tr th:only-of-type {\n",
              "        vertical-align: middle;\n",
              "    }\n",
              "\n",
              "    .dataframe tbody tr th {\n",
              "        vertical-align: top;\n",
              "    }\n",
              "\n",
              "    .dataframe thead th {\n",
              "        text-align: right;\n",
              "    }\n",
              "</style>\n",
              "<table border=\"1\" class=\"dataframe\">\n",
              "  <thead>\n",
              "    <tr style=\"text-align: right;\">\n",
              "      <th></th>\n",
              "      <th>date</th>\n",
              "      <th>url</th>\n",
              "      <th>contract_id</th>\n",
              "    </tr>\n",
              "  </thead>\n",
              "  <tbody>\n",
              "    <tr>\n",
              "      <th>0</th>\n",
              "      <td>17-Apr-2021</td>\n",
              "      <td>webmail.sampo.ru</td>\n",
              "      <td>101397</td>\n",
              "    </tr>\n",
              "    <tr>\n",
              "      <th>1</th>\n",
              "      <td>17-Apr-2021</td>\n",
              "      <td>webmail.sampo.ru</td>\n",
              "      <td>179624</td>\n",
              "    </tr>\n",
              "    <tr>\n",
              "      <th>2</th>\n",
              "      <td>17-Apr-2021</td>\n",
              "      <td>tvip-provision.sampo.ru</td>\n",
              "      <td>190335</td>\n",
              "    </tr>\n",
              "  </tbody>\n",
              "</table>\n",
              "</div>\n",
              "      <button class=\"colab-df-convert\" onclick=\"convertToInteractive('df-a5fa0eb4-978b-4f45-b621-0b118035541f')\"\n",
              "              title=\"Convert this dataframe to an interactive table.\"\n",
              "              style=\"display:none;\">\n",
              "        \n",
              "  <svg xmlns=\"http://www.w3.org/2000/svg\" height=\"24px\"viewBox=\"0 0 24 24\"\n",
              "       width=\"24px\">\n",
              "    <path d=\"M0 0h24v24H0V0z\" fill=\"none\"/>\n",
              "    <path d=\"M18.56 5.44l.94 2.06.94-2.06 2.06-.94-2.06-.94-.94-2.06-.94 2.06-2.06.94zm-11 1L8.5 8.5l.94-2.06 2.06-.94-2.06-.94L8.5 2.5l-.94 2.06-2.06.94zm10 10l.94 2.06.94-2.06 2.06-.94-2.06-.94-.94-2.06-.94 2.06-2.06.94z\"/><path d=\"M17.41 7.96l-1.37-1.37c-.4-.4-.92-.59-1.43-.59-.52 0-1.04.2-1.43.59L10.3 9.45l-7.72 7.72c-.78.78-.78 2.05 0 2.83L4 21.41c.39.39.9.59 1.41.59.51 0 1.02-.2 1.41-.59l7.78-7.78 2.81-2.81c.8-.78.8-2.07 0-2.86zM5.41 20L4 18.59l7.72-7.72 1.47 1.35L5.41 20z\"/>\n",
              "  </svg>\n",
              "      </button>\n",
              "      \n",
              "  <style>\n",
              "    .colab-df-container {\n",
              "      display:flex;\n",
              "      flex-wrap:wrap;\n",
              "      gap: 12px;\n",
              "    }\n",
              "\n",
              "    .colab-df-convert {\n",
              "      background-color: #E8F0FE;\n",
              "      border: none;\n",
              "      border-radius: 50%;\n",
              "      cursor: pointer;\n",
              "      display: none;\n",
              "      fill: #1967D2;\n",
              "      height: 32px;\n",
              "      padding: 0 0 0 0;\n",
              "      width: 32px;\n",
              "    }\n",
              "\n",
              "    .colab-df-convert:hover {\n",
              "      background-color: #E2EBFA;\n",
              "      box-shadow: 0px 1px 2px rgba(60, 64, 67, 0.3), 0px 1px 3px 1px rgba(60, 64, 67, 0.15);\n",
              "      fill: #174EA6;\n",
              "    }\n",
              "\n",
              "    [theme=dark] .colab-df-convert {\n",
              "      background-color: #3B4455;\n",
              "      fill: #D2E3FC;\n",
              "    }\n",
              "\n",
              "    [theme=dark] .colab-df-convert:hover {\n",
              "      background-color: #434B5C;\n",
              "      box-shadow: 0px 1px 3px 1px rgba(0, 0, 0, 0.15);\n",
              "      filter: drop-shadow(0px 1px 2px rgba(0, 0, 0, 0.3));\n",
              "      fill: #FFFFFF;\n",
              "    }\n",
              "  </style>\n",
              "\n",
              "      <script>\n",
              "        const buttonEl =\n",
              "          document.querySelector('#df-a5fa0eb4-978b-4f45-b621-0b118035541f button.colab-df-convert');\n",
              "        buttonEl.style.display =\n",
              "          google.colab.kernel.accessAllowed ? 'block' : 'none';\n",
              "\n",
              "        async function convertToInteractive(key) {\n",
              "          const element = document.querySelector('#df-a5fa0eb4-978b-4f45-b621-0b118035541f');\n",
              "          const dataTable =\n",
              "            await google.colab.kernel.invokeFunction('convertToInteractive',\n",
              "                                                     [key], {});\n",
              "          if (!dataTable) return;\n",
              "\n",
              "          const docLinkHtml = 'Like what you see? Visit the ' +\n",
              "            '<a target=\"_blank\" href=https://colab.research.google.com/notebooks/data_table.ipynb>data table notebook</a>'\n",
              "            + ' to learn more about interactive tables.';\n",
              "          element.innerHTML = '';\n",
              "          dataTable['output_type'] = 'display_data';\n",
              "          await google.colab.output.renderOutput(dataTable, element);\n",
              "          const docLink = document.createElement('div');\n",
              "          docLink.innerHTML = docLinkHtml;\n",
              "          element.appendChild(docLink);\n",
              "        }\n",
              "      </script>\n",
              "    </div>\n",
              "  </div>\n",
              "  "
            ]
          },
          "metadata": {},
          "execution_count": 11
        }
      ]
    },
    {
      "cell_type": "code",
      "source": [
        "df_named.info()"
      ],
      "metadata": {
        "colab": {
          "base_uri": "https://localhost:8080/"
        },
        "id": "E7BKhUGzKiX3",
        "outputId": "73daf1d5-5e92-4114-b162-bb8009987cdf"
      },
      "execution_count": null,
      "outputs": [
        {
          "output_type": "stream",
          "name": "stdout",
          "text": [
            "<class 'pandas.core.frame.DataFrame'>\n",
            "RangeIndex: 10646537 entries, 0 to 10646536\n",
            "Data columns (total 3 columns):\n",
            " #   Column       Dtype \n",
            "---  ------       ----- \n",
            " 0   date         object\n",
            " 1   url          object\n",
            " 2   contract_id  int64 \n",
            "dtypes: int64(1), object(2)\n",
            "memory usage: 243.7+ MB\n"
          ]
        }
      ]
    },
    {
      "cell_type": "code",
      "source": [
        "df_named.contract_id.value_counts()"
      ],
      "metadata": {
        "colab": {
          "base_uri": "https://localhost:8080/"
        },
        "id": "SWsbNmRlLHzn",
        "outputId": "f7c15d88-346a-43e3-c6d3-c17b0deb88b3"
      },
      "execution_count": null,
      "outputs": [
        {
          "output_type": "execute_result",
          "data": {
            "text/plain": [
              "14321    6934\n",
              "31215    6902\n",
              "12914    6632\n",
              "27891    6491\n",
              "54140    3675\n",
              "         ... \n",
              "10363       1\n",
              "31238       1\n",
              "34688       1\n",
              "51415       1\n",
              "48679       1\n",
              "Name: contract_id, Length: 196148, dtype: int64"
            ]
          },
          "metadata": {},
          "execution_count": 13
        }
      ]
    },
    {
      "cell_type": "code",
      "source": [
        "df_named.url.value_counts()"
      ],
      "metadata": {
        "colab": {
          "base_uri": "https://localhost:8080/"
        },
        "id": "BCqd9u7uLd5t",
        "outputId": "1c98dc96-483f-442c-b90e-fa3e50a9424b"
      },
      "execution_count": null,
      "outputs": [
        {
          "output_type": "execute_result",
          "data": {
            "text/plain": [
              "camera.rt.ru                                         7333195\n",
              "vmxott.svc.iptv.rt.ru                                 289876\n",
              "tvip-provision.sampo.ru                               138944\n",
              "webmail.sampo.ru                                      132718\n",
              "statserv.sampo.ru                                     110428\n",
              "                                                      ...   \n",
              "_bittorrent-tracker._tcp.ip94-143-246-20.sampo.ru          1\n",
              "_bittorrent-tracker._tcp.ip212-109-29-44.sampo.ru          1\n",
              "jcyzowodsk.sampo.ru                                        1\n",
              "dhmisszt.sampo.ru                                          1\n",
              "broadband-90-154-70-112.ip.moscow.rt.ru                    1\n",
              "Name: url, Length: 6583, dtype: int64"
            ]
          },
          "metadata": {},
          "execution_count": 14
        }
      ]
    },
    {
      "cell_type": "code",
      "source": [
        "df_log.head(5)"
      ],
      "metadata": {
        "colab": {
          "base_uri": "https://localhost:8080/",
          "height": 206
        },
        "id": "XXqLSAe7Xs_z",
        "outputId": "969a4f3c-8d44-4ea1-e172-594b6f46de81"
      },
      "execution_count": null,
      "outputs": [
        {
          "output_type": "execute_result",
          "data": {
            "text/plain": [
              "   contract_id           event_date                            event_type\n",
              "0        36294  2021-03-28 16:24:30     Добавление в Обращались с номеров\n",
              "1        36294  2021-03-28 16:27:41  Обращение в службу заботы о клиентах\n",
              "2        36294  2021-03-28 16:29:56                Выключение IPTV-пакета\n",
              "3        36294  2021-03-28 16:29:56                 Включение IPTV-пакета\n",
              "4        36294  2021-03-28 16:35:04  Обращение в службу заботы о клиентах"
            ],
            "text/html": [
              "\n",
              "  <div id=\"df-3925c20a-f3f3-43c5-bb10-d35e82541013\">\n",
              "    <div class=\"colab-df-container\">\n",
              "      <div>\n",
              "<style scoped>\n",
              "    .dataframe tbody tr th:only-of-type {\n",
              "        vertical-align: middle;\n",
              "    }\n",
              "\n",
              "    .dataframe tbody tr th {\n",
              "        vertical-align: top;\n",
              "    }\n",
              "\n",
              "    .dataframe thead th {\n",
              "        text-align: right;\n",
              "    }\n",
              "</style>\n",
              "<table border=\"1\" class=\"dataframe\">\n",
              "  <thead>\n",
              "    <tr style=\"text-align: right;\">\n",
              "      <th></th>\n",
              "      <th>contract_id</th>\n",
              "      <th>event_date</th>\n",
              "      <th>event_type</th>\n",
              "    </tr>\n",
              "  </thead>\n",
              "  <tbody>\n",
              "    <tr>\n",
              "      <th>0</th>\n",
              "      <td>36294</td>\n",
              "      <td>2021-03-28 16:24:30</td>\n",
              "      <td>Добавление в Обращались с номеров</td>\n",
              "    </tr>\n",
              "    <tr>\n",
              "      <th>1</th>\n",
              "      <td>36294</td>\n",
              "      <td>2021-03-28 16:27:41</td>\n",
              "      <td>Обращение в службу заботы о клиентах</td>\n",
              "    </tr>\n",
              "    <tr>\n",
              "      <th>2</th>\n",
              "      <td>36294</td>\n",
              "      <td>2021-03-28 16:29:56</td>\n",
              "      <td>Выключение IPTV-пакета</td>\n",
              "    </tr>\n",
              "    <tr>\n",
              "      <th>3</th>\n",
              "      <td>36294</td>\n",
              "      <td>2021-03-28 16:29:56</td>\n",
              "      <td>Включение IPTV-пакета</td>\n",
              "    </tr>\n",
              "    <tr>\n",
              "      <th>4</th>\n",
              "      <td>36294</td>\n",
              "      <td>2021-03-28 16:35:04</td>\n",
              "      <td>Обращение в службу заботы о клиентах</td>\n",
              "    </tr>\n",
              "  </tbody>\n",
              "</table>\n",
              "</div>\n",
              "      <button class=\"colab-df-convert\" onclick=\"convertToInteractive('df-3925c20a-f3f3-43c5-bb10-d35e82541013')\"\n",
              "              title=\"Convert this dataframe to an interactive table.\"\n",
              "              style=\"display:none;\">\n",
              "        \n",
              "  <svg xmlns=\"http://www.w3.org/2000/svg\" height=\"24px\"viewBox=\"0 0 24 24\"\n",
              "       width=\"24px\">\n",
              "    <path d=\"M0 0h24v24H0V0z\" fill=\"none\"/>\n",
              "    <path d=\"M18.56 5.44l.94 2.06.94-2.06 2.06-.94-2.06-.94-.94-2.06-.94 2.06-2.06.94zm-11 1L8.5 8.5l.94-2.06 2.06-.94-2.06-.94L8.5 2.5l-.94 2.06-2.06.94zm10 10l.94 2.06.94-2.06 2.06-.94-2.06-.94-.94-2.06-.94 2.06-2.06.94z\"/><path d=\"M17.41 7.96l-1.37-1.37c-.4-.4-.92-.59-1.43-.59-.52 0-1.04.2-1.43.59L10.3 9.45l-7.72 7.72c-.78.78-.78 2.05 0 2.83L4 21.41c.39.39.9.59 1.41.59.51 0 1.02-.2 1.41-.59l7.78-7.78 2.81-2.81c.8-.78.8-2.07 0-2.86zM5.41 20L4 18.59l7.72-7.72 1.47 1.35L5.41 20z\"/>\n",
              "  </svg>\n",
              "      </button>\n",
              "      \n",
              "  <style>\n",
              "    .colab-df-container {\n",
              "      display:flex;\n",
              "      flex-wrap:wrap;\n",
              "      gap: 12px;\n",
              "    }\n",
              "\n",
              "    .colab-df-convert {\n",
              "      background-color: #E8F0FE;\n",
              "      border: none;\n",
              "      border-radius: 50%;\n",
              "      cursor: pointer;\n",
              "      display: none;\n",
              "      fill: #1967D2;\n",
              "      height: 32px;\n",
              "      padding: 0 0 0 0;\n",
              "      width: 32px;\n",
              "    }\n",
              "\n",
              "    .colab-df-convert:hover {\n",
              "      background-color: #E2EBFA;\n",
              "      box-shadow: 0px 1px 2px rgba(60, 64, 67, 0.3), 0px 1px 3px 1px rgba(60, 64, 67, 0.15);\n",
              "      fill: #174EA6;\n",
              "    }\n",
              "\n",
              "    [theme=dark] .colab-df-convert {\n",
              "      background-color: #3B4455;\n",
              "      fill: #D2E3FC;\n",
              "    }\n",
              "\n",
              "    [theme=dark] .colab-df-convert:hover {\n",
              "      background-color: #434B5C;\n",
              "      box-shadow: 0px 1px 3px 1px rgba(0, 0, 0, 0.15);\n",
              "      filter: drop-shadow(0px 1px 2px rgba(0, 0, 0, 0.3));\n",
              "      fill: #FFFFFF;\n",
              "    }\n",
              "  </style>\n",
              "\n",
              "      <script>\n",
              "        const buttonEl =\n",
              "          document.querySelector('#df-3925c20a-f3f3-43c5-bb10-d35e82541013 button.colab-df-convert');\n",
              "        buttonEl.style.display =\n",
              "          google.colab.kernel.accessAllowed ? 'block' : 'none';\n",
              "\n",
              "        async function convertToInteractive(key) {\n",
              "          const element = document.querySelector('#df-3925c20a-f3f3-43c5-bb10-d35e82541013');\n",
              "          const dataTable =\n",
              "            await google.colab.kernel.invokeFunction('convertToInteractive',\n",
              "                                                     [key], {});\n",
              "          if (!dataTable) return;\n",
              "\n",
              "          const docLinkHtml = 'Like what you see? Visit the ' +\n",
              "            '<a target=\"_blank\" href=https://colab.research.google.com/notebooks/data_table.ipynb>data table notebook</a>'\n",
              "            + ' to learn more about interactive tables.';\n",
              "          element.innerHTML = '';\n",
              "          dataTable['output_type'] = 'display_data';\n",
              "          await google.colab.output.renderOutput(dataTable, element);\n",
              "          const docLink = document.createElement('div');\n",
              "          docLink.innerHTML = docLinkHtml;\n",
              "          element.appendChild(docLink);\n",
              "        }\n",
              "      </script>\n",
              "    </div>\n",
              "  </div>\n",
              "  "
            ]
          },
          "metadata": {},
          "execution_count": 15
        }
      ]
    },
    {
      "cell_type": "code",
      "source": [
        "df_log.info()"
      ],
      "metadata": {
        "colab": {
          "base_uri": "https://localhost:8080/"
        },
        "id": "Y7l2weIxXwb9",
        "outputId": "5c50cf40-5ba5-4b31-bb1c-aafded97881a"
      },
      "execution_count": null,
      "outputs": [
        {
          "output_type": "stream",
          "name": "stdout",
          "text": [
            "<class 'pandas.core.frame.DataFrame'>\n",
            "RangeIndex: 25274 entries, 0 to 25273\n",
            "Data columns (total 3 columns):\n",
            " #   Column       Non-Null Count  Dtype \n",
            "---  ------       --------------  ----- \n",
            " 0   contract_id  25274 non-null  int64 \n",
            " 1   event_date   25274 non-null  object\n",
            " 2   event_type   25274 non-null  object\n",
            "dtypes: int64(1), object(2)\n",
            "memory usage: 592.5+ KB\n"
          ]
        }
      ]
    },
    {
      "cell_type": "code",
      "source": [
        "df_log.event_type.value_counts()"
      ],
      "metadata": {
        "colab": {
          "base_uri": "https://localhost:8080/"
        },
        "id": "7g_sUEGrXoHc",
        "outputId": "76eda597-144b-4914-c470-ae907a7896ea"
      },
      "execution_count": null,
      "outputs": [
        {
          "output_type": "execute_result",
          "data": {
            "text/plain": [
              "Информер ВК. Показ                                                  8001\n",
              "Включение интернета на 20 минут                                     4092\n",
              "Обращение в службу заботы о клиентах                                2860\n",
              "Гарантированный платеж за деньги                                    2679\n",
              "Виртуальное бессмертие. Использование                                757\n",
              "                                                                    ... \n",
              "Футболка Ситилинк                                                      1\n",
              "Закрытие информатора об изменении уведомлений через ВК платформу       1\n",
              "Окончание рассрочки за подключение                                     1\n",
              "Общий счет. Отсоединение реципиента                                    1\n",
              "Общий счет. Отсоединение от донора                                     1\n",
              "Name: event_type, Length: 105, dtype: int64"
            ]
          },
          "metadata": {},
          "execution_count": 17
        }
      ]
    },
    {
      "cell_type": "code",
      "source": [
        "df_type_contract.head(3)"
      ],
      "metadata": {
        "colab": {
          "base_uri": "https://localhost:8080/",
          "height": 143
        },
        "id": "ih0T_woR4bhP",
        "outputId": "2d82231c-2b07-42ae-bc26-9b929075a552"
      },
      "execution_count": null,
      "outputs": [
        {
          "output_type": "execute_result",
          "data": {
            "text/plain": [
              "   contract_id  day_or_month_contract\n",
              "0         7780                      0\n",
              "1         3996                      0\n",
              "2         7785                      0"
            ],
            "text/html": [
              "\n",
              "  <div id=\"df-40e21d9a-0138-4f2e-a425-3460435e5585\">\n",
              "    <div class=\"colab-df-container\">\n",
              "      <div>\n",
              "<style scoped>\n",
              "    .dataframe tbody tr th:only-of-type {\n",
              "        vertical-align: middle;\n",
              "    }\n",
              "\n",
              "    .dataframe tbody tr th {\n",
              "        vertical-align: top;\n",
              "    }\n",
              "\n",
              "    .dataframe thead th {\n",
              "        text-align: right;\n",
              "    }\n",
              "</style>\n",
              "<table border=\"1\" class=\"dataframe\">\n",
              "  <thead>\n",
              "    <tr style=\"text-align: right;\">\n",
              "      <th></th>\n",
              "      <th>contract_id</th>\n",
              "      <th>day_or_month_contract</th>\n",
              "    </tr>\n",
              "  </thead>\n",
              "  <tbody>\n",
              "    <tr>\n",
              "      <th>0</th>\n",
              "      <td>7780</td>\n",
              "      <td>0</td>\n",
              "    </tr>\n",
              "    <tr>\n",
              "      <th>1</th>\n",
              "      <td>3996</td>\n",
              "      <td>0</td>\n",
              "    </tr>\n",
              "    <tr>\n",
              "      <th>2</th>\n",
              "      <td>7785</td>\n",
              "      <td>0</td>\n",
              "    </tr>\n",
              "  </tbody>\n",
              "</table>\n",
              "</div>\n",
              "      <button class=\"colab-df-convert\" onclick=\"convertToInteractive('df-40e21d9a-0138-4f2e-a425-3460435e5585')\"\n",
              "              title=\"Convert this dataframe to an interactive table.\"\n",
              "              style=\"display:none;\">\n",
              "        \n",
              "  <svg xmlns=\"http://www.w3.org/2000/svg\" height=\"24px\"viewBox=\"0 0 24 24\"\n",
              "       width=\"24px\">\n",
              "    <path d=\"M0 0h24v24H0V0z\" fill=\"none\"/>\n",
              "    <path d=\"M18.56 5.44l.94 2.06.94-2.06 2.06-.94-2.06-.94-.94-2.06-.94 2.06-2.06.94zm-11 1L8.5 8.5l.94-2.06 2.06-.94-2.06-.94L8.5 2.5l-.94 2.06-2.06.94zm10 10l.94 2.06.94-2.06 2.06-.94-2.06-.94-.94-2.06-.94 2.06-2.06.94z\"/><path d=\"M17.41 7.96l-1.37-1.37c-.4-.4-.92-.59-1.43-.59-.52 0-1.04.2-1.43.59L10.3 9.45l-7.72 7.72c-.78.78-.78 2.05 0 2.83L4 21.41c.39.39.9.59 1.41.59.51 0 1.02-.2 1.41-.59l7.78-7.78 2.81-2.81c.8-.78.8-2.07 0-2.86zM5.41 20L4 18.59l7.72-7.72 1.47 1.35L5.41 20z\"/>\n",
              "  </svg>\n",
              "      </button>\n",
              "      \n",
              "  <style>\n",
              "    .colab-df-container {\n",
              "      display:flex;\n",
              "      flex-wrap:wrap;\n",
              "      gap: 12px;\n",
              "    }\n",
              "\n",
              "    .colab-df-convert {\n",
              "      background-color: #E8F0FE;\n",
              "      border: none;\n",
              "      border-radius: 50%;\n",
              "      cursor: pointer;\n",
              "      display: none;\n",
              "      fill: #1967D2;\n",
              "      height: 32px;\n",
              "      padding: 0 0 0 0;\n",
              "      width: 32px;\n",
              "    }\n",
              "\n",
              "    .colab-df-convert:hover {\n",
              "      background-color: #E2EBFA;\n",
              "      box-shadow: 0px 1px 2px rgba(60, 64, 67, 0.3), 0px 1px 3px 1px rgba(60, 64, 67, 0.15);\n",
              "      fill: #174EA6;\n",
              "    }\n",
              "\n",
              "    [theme=dark] .colab-df-convert {\n",
              "      background-color: #3B4455;\n",
              "      fill: #D2E3FC;\n",
              "    }\n",
              "\n",
              "    [theme=dark] .colab-df-convert:hover {\n",
              "      background-color: #434B5C;\n",
              "      box-shadow: 0px 1px 3px 1px rgba(0, 0, 0, 0.15);\n",
              "      filter: drop-shadow(0px 1px 2px rgba(0, 0, 0, 0.3));\n",
              "      fill: #FFFFFF;\n",
              "    }\n",
              "  </style>\n",
              "\n",
              "      <script>\n",
              "        const buttonEl =\n",
              "          document.querySelector('#df-40e21d9a-0138-4f2e-a425-3460435e5585 button.colab-df-convert');\n",
              "        buttonEl.style.display =\n",
              "          google.colab.kernel.accessAllowed ? 'block' : 'none';\n",
              "\n",
              "        async function convertToInteractive(key) {\n",
              "          const element = document.querySelector('#df-40e21d9a-0138-4f2e-a425-3460435e5585');\n",
              "          const dataTable =\n",
              "            await google.colab.kernel.invokeFunction('convertToInteractive',\n",
              "                                                     [key], {});\n",
              "          if (!dataTable) return;\n",
              "\n",
              "          const docLinkHtml = 'Like what you see? Visit the ' +\n",
              "            '<a target=\"_blank\" href=https://colab.research.google.com/notebooks/data_table.ipynb>data table notebook</a>'\n",
              "            + ' to learn more about interactive tables.';\n",
              "          element.innerHTML = '';\n",
              "          dataTable['output_type'] = 'display_data';\n",
              "          await google.colab.output.renderOutput(dataTable, element);\n",
              "          const docLink = document.createElement('div');\n",
              "          docLink.innerHTML = docLinkHtml;\n",
              "          element.appendChild(docLink);\n",
              "        }\n",
              "      </script>\n",
              "    </div>\n",
              "  </div>\n",
              "  "
            ]
          },
          "metadata": {},
          "execution_count": 18
        }
      ]
    },
    {
      "cell_type": "code",
      "source": [
        "df_sample_solution.info()"
      ],
      "metadata": {
        "colab": {
          "base_uri": "https://localhost:8080/"
        },
        "id": "BIMPaumf6hfT",
        "outputId": "aa088d3f-612e-4920-9a01-85026be030b5"
      },
      "execution_count": null,
      "outputs": [
        {
          "output_type": "stream",
          "name": "stdout",
          "text": [
            "<class 'pandas.core.frame.DataFrame'>\n",
            "RangeIndex: 810 entries, 0 to 809\n",
            "Data columns (total 2 columns):\n",
            " #   Column       Non-Null Count  Dtype\n",
            "---  ------       --------------  -----\n",
            " 0   contract_id  810 non-null    int64\n",
            " 1   blocked      810 non-null    int64\n",
            "dtypes: int64(2)\n",
            "memory usage: 12.8 KB\n"
          ]
        }
      ]
    },
    {
      "cell_type": "code",
      "source": [
        "df_named['date'] = pd.to_datetime(df_named['date'])"
      ],
      "metadata": {
        "id": "P1oz-F-ZQKSi"
      },
      "execution_count": 11,
      "outputs": []
    },
    {
      "cell_type": "code",
      "source": [
        "last_conc = df_named.groupby('contract_id').agg('last')"
      ],
      "metadata": {
        "id": "CG_ScwC1RKRL"
      },
      "execution_count": 12,
      "outputs": []
    },
    {
      "cell_type": "code",
      "source": [
        "df_log['event_date'] = pd.to_datetime(df_log['event_date'])"
      ],
      "metadata": {
        "id": "yIvcOv6UR1XZ"
      },
      "execution_count": 13,
      "outputs": []
    },
    {
      "cell_type": "code",
      "source": [
        "last_support = df_named.groupby('contract_id').agg('last')"
      ],
      "metadata": {
        "id": "ifVxo--uScad"
      },
      "execution_count": 14,
      "outputs": []
    },
    {
      "cell_type": "code",
      "source": [
        "last_support"
      ],
      "metadata": {
        "colab": {
          "base_uri": "https://localhost:8080/",
          "height": 455
        },
        "id": "oajP8ikPSkP9",
        "outputId": "87a4bb3c-7961-4614-8433-5d549b484729"
      },
      "execution_count": 15,
      "outputs": [
        {
          "output_type": "execute_result",
          "data": {
            "text/plain": [
              "                  date                                                url\n",
              "contract_id                                                              \n",
              "3455        2021-04-09                      cnt-odcv-itv03.svc.iptv.rt.ru\n",
              "3458        2021-04-20                                          fnc.rt.ru\n",
              "3459        2021-04-28  petrozavodsk.speedtest.rt.ru.prod.hosts.ooklas...\n",
              "3460        2021-03-31                                      file.sampo.ru\n",
              "3461        2021-04-17                                          fnc.rt.ru\n",
              "...                ...                                                ...\n",
              "271820      2021-03-30  petrozavodsk.speedtest.rt.ru.prod.hosts.ooklas...\n",
              "272061      2021-04-04                                          fnc.rt.ru\n",
              "273472      2021-03-28                                      data.sampo.ru\n",
              "273538      2021-04-19                                          fnc.rt.ru\n",
              "274786      2021-04-05                                          fnc.rt.ru\n",
              "\n",
              "[196148 rows x 2 columns]"
            ],
            "text/html": [
              "\n",
              "  <div id=\"df-ea322ec8-7cce-4807-855e-3fc5d372d0ff\">\n",
              "    <div class=\"colab-df-container\">\n",
              "      <div>\n",
              "<style scoped>\n",
              "    .dataframe tbody tr th:only-of-type {\n",
              "        vertical-align: middle;\n",
              "    }\n",
              "\n",
              "    .dataframe tbody tr th {\n",
              "        vertical-align: top;\n",
              "    }\n",
              "\n",
              "    .dataframe thead th {\n",
              "        text-align: right;\n",
              "    }\n",
              "</style>\n",
              "<table border=\"1\" class=\"dataframe\">\n",
              "  <thead>\n",
              "    <tr style=\"text-align: right;\">\n",
              "      <th></th>\n",
              "      <th>date</th>\n",
              "      <th>url</th>\n",
              "    </tr>\n",
              "    <tr>\n",
              "      <th>contract_id</th>\n",
              "      <th></th>\n",
              "      <th></th>\n",
              "    </tr>\n",
              "  </thead>\n",
              "  <tbody>\n",
              "    <tr>\n",
              "      <th>3455</th>\n",
              "      <td>2021-04-09</td>\n",
              "      <td>cnt-odcv-itv03.svc.iptv.rt.ru</td>\n",
              "    </tr>\n",
              "    <tr>\n",
              "      <th>3458</th>\n",
              "      <td>2021-04-20</td>\n",
              "      <td>fnc.rt.ru</td>\n",
              "    </tr>\n",
              "    <tr>\n",
              "      <th>3459</th>\n",
              "      <td>2021-04-28</td>\n",
              "      <td>petrozavodsk.speedtest.rt.ru.prod.hosts.ooklas...</td>\n",
              "    </tr>\n",
              "    <tr>\n",
              "      <th>3460</th>\n",
              "      <td>2021-03-31</td>\n",
              "      <td>file.sampo.ru</td>\n",
              "    </tr>\n",
              "    <tr>\n",
              "      <th>3461</th>\n",
              "      <td>2021-04-17</td>\n",
              "      <td>fnc.rt.ru</td>\n",
              "    </tr>\n",
              "    <tr>\n",
              "      <th>...</th>\n",
              "      <td>...</td>\n",
              "      <td>...</td>\n",
              "    </tr>\n",
              "    <tr>\n",
              "      <th>271820</th>\n",
              "      <td>2021-03-30</td>\n",
              "      <td>petrozavodsk.speedtest.rt.ru.prod.hosts.ooklas...</td>\n",
              "    </tr>\n",
              "    <tr>\n",
              "      <th>272061</th>\n",
              "      <td>2021-04-04</td>\n",
              "      <td>fnc.rt.ru</td>\n",
              "    </tr>\n",
              "    <tr>\n",
              "      <th>273472</th>\n",
              "      <td>2021-03-28</td>\n",
              "      <td>data.sampo.ru</td>\n",
              "    </tr>\n",
              "    <tr>\n",
              "      <th>273538</th>\n",
              "      <td>2021-04-19</td>\n",
              "      <td>fnc.rt.ru</td>\n",
              "    </tr>\n",
              "    <tr>\n",
              "      <th>274786</th>\n",
              "      <td>2021-04-05</td>\n",
              "      <td>fnc.rt.ru</td>\n",
              "    </tr>\n",
              "  </tbody>\n",
              "</table>\n",
              "<p>196148 rows × 2 columns</p>\n",
              "</div>\n",
              "      <button class=\"colab-df-convert\" onclick=\"convertToInteractive('df-ea322ec8-7cce-4807-855e-3fc5d372d0ff')\"\n",
              "              title=\"Convert this dataframe to an interactive table.\"\n",
              "              style=\"display:none;\">\n",
              "        \n",
              "  <svg xmlns=\"http://www.w3.org/2000/svg\" height=\"24px\"viewBox=\"0 0 24 24\"\n",
              "       width=\"24px\">\n",
              "    <path d=\"M0 0h24v24H0V0z\" fill=\"none\"/>\n",
              "    <path d=\"M18.56 5.44l.94 2.06.94-2.06 2.06-.94-2.06-.94-.94-2.06-.94 2.06-2.06.94zm-11 1L8.5 8.5l.94-2.06 2.06-.94-2.06-.94L8.5 2.5l-.94 2.06-2.06.94zm10 10l.94 2.06.94-2.06 2.06-.94-2.06-.94-.94-2.06-.94 2.06-2.06.94z\"/><path d=\"M17.41 7.96l-1.37-1.37c-.4-.4-.92-.59-1.43-.59-.52 0-1.04.2-1.43.59L10.3 9.45l-7.72 7.72c-.78.78-.78 2.05 0 2.83L4 21.41c.39.39.9.59 1.41.59.51 0 1.02-.2 1.41-.59l7.78-7.78 2.81-2.81c.8-.78.8-2.07 0-2.86zM5.41 20L4 18.59l7.72-7.72 1.47 1.35L5.41 20z\"/>\n",
              "  </svg>\n",
              "      </button>\n",
              "      \n",
              "  <style>\n",
              "    .colab-df-container {\n",
              "      display:flex;\n",
              "      flex-wrap:wrap;\n",
              "      gap: 12px;\n",
              "    }\n",
              "\n",
              "    .colab-df-convert {\n",
              "      background-color: #E8F0FE;\n",
              "      border: none;\n",
              "      border-radius: 50%;\n",
              "      cursor: pointer;\n",
              "      display: none;\n",
              "      fill: #1967D2;\n",
              "      height: 32px;\n",
              "      padding: 0 0 0 0;\n",
              "      width: 32px;\n",
              "    }\n",
              "\n",
              "    .colab-df-convert:hover {\n",
              "      background-color: #E2EBFA;\n",
              "      box-shadow: 0px 1px 2px rgba(60, 64, 67, 0.3), 0px 1px 3px 1px rgba(60, 64, 67, 0.15);\n",
              "      fill: #174EA6;\n",
              "    }\n",
              "\n",
              "    [theme=dark] .colab-df-convert {\n",
              "      background-color: #3B4455;\n",
              "      fill: #D2E3FC;\n",
              "    }\n",
              "\n",
              "    [theme=dark] .colab-df-convert:hover {\n",
              "      background-color: #434B5C;\n",
              "      box-shadow: 0px 1px 3px 1px rgba(0, 0, 0, 0.15);\n",
              "      filter: drop-shadow(0px 1px 2px rgba(0, 0, 0, 0.3));\n",
              "      fill: #FFFFFF;\n",
              "    }\n",
              "  </style>\n",
              "\n",
              "      <script>\n",
              "        const buttonEl =\n",
              "          document.querySelector('#df-ea322ec8-7cce-4807-855e-3fc5d372d0ff button.colab-df-convert');\n",
              "        buttonEl.style.display =\n",
              "          google.colab.kernel.accessAllowed ? 'block' : 'none';\n",
              "\n",
              "        async function convertToInteractive(key) {\n",
              "          const element = document.querySelector('#df-ea322ec8-7cce-4807-855e-3fc5d372d0ff');\n",
              "          const dataTable =\n",
              "            await google.colab.kernel.invokeFunction('convertToInteractive',\n",
              "                                                     [key], {});\n",
              "          if (!dataTable) return;\n",
              "\n",
              "          const docLinkHtml = 'Like what you see? Visit the ' +\n",
              "            '<a target=\"_blank\" href=https://colab.research.google.com/notebooks/data_table.ipynb>data table notebook</a>'\n",
              "            + ' to learn more about interactive tables.';\n",
              "          element.innerHTML = '';\n",
              "          dataTable['output_type'] = 'display_data';\n",
              "          await google.colab.output.renderOutput(dataTable, element);\n",
              "          const docLink = document.createElement('div');\n",
              "          docLink.innerHTML = docLinkHtml;\n",
              "          element.appendChild(docLink);\n",
              "        }\n",
              "      </script>\n",
              "    </div>\n",
              "  </div>\n",
              "  "
            ]
          },
          "metadata": {},
          "execution_count": 15
        }
      ]
    },
    {
      "cell_type": "markdown",
      "source": [
        "## Объединение датасета"
      ],
      "metadata": {
        "id": "ws9AgKjiA7Jd"
      }
    },
    {
      "cell_type": "markdown",
      "source": [
        "Обьединим два набора с данными"
      ],
      "metadata": {
        "id": "96OuAK1rBBTK"
      }
    },
    {
      "cell_type": "code",
      "source": [
        "df_full = pd.merge(df_train, df_type_contract , on=\"contract_id\", how='left').fillna(0)"
      ],
      "metadata": {
        "id": "SsXefQu_558z"
      },
      "execution_count": 16,
      "outputs": []
    },
    {
      "cell_type": "markdown",
      "source": [
        "## Feature engineering "
      ],
      "metadata": {
        "id": "Cnak3YwqPBZJ"
      }
    },
    {
      "cell_type": "code",
      "source": [
        "# количество обращений в службу поддержки\n",
        "count_log = df_log.groupby(\"contract_id\").count()\n",
        "df_full = pd.merge(df_full, count_log , on=\"contract_id\", how='left').drop([\"event_date\"],axis =1).rename(columns={'event_type':'num_of_calls'})"
      ],
      "metadata": {
        "id": "d23YUHBeBcQ-"
      },
      "execution_count": 17,
      "outputs": []
    },
    {
      "cell_type": "code",
      "source": [
        "# количсевто обращений к конкурентам\n",
        "count_named = df_named.groupby(\"contract_id\").count()\n",
        "df_full = pd.merge(df_full, count_named , on=\"contract_id\", how='left').drop([\"date\"],axis =1).fillna(0).rename(columns={'url':'num_competitor_url'})"
      ],
      "metadata": {
        "id": "0dzMsvc0wWkQ"
      },
      "execution_count": 18,
      "outputs": []
    },
    {
      "cell_type": "code",
      "source": [
        "# меняю тип данных\n",
        "df_full[['day_or_month_contract', 'num_of_calls', 'num_competitor_url']] = df_full[['day_or_month_contract', 'num_of_calls', 'num_competitor_url']].astype('int')"
      ],
      "metadata": {
        "id": "J7_IGAc1wvs2"
      },
      "execution_count": 19,
      "outputs": []
    },
    {
      "cell_type": "code",
      "source": [
        "# последнее обращение в службу поддержки\n",
        "last_log = df_log.groupby('contract_id').agg('last')\n",
        "df_full = pd.merge(df_full, last_log , on=\"contract_id\", how='left').drop([\"event_date\"],axis =1)"
      ],
      "metadata": {
        "id": "KIYwFP27Dkwe"
      },
      "execution_count": 20,
      "outputs": []
    },
    {
      "cell_type": "code",
      "source": [
        "# Расчёт соотношения обращений к конкурентам на оДно обращение в службу поддержки\n",
        "df_full['ev_url'] = df_full['num_competitor_url']  / df_full['num_of_calls']\n",
        "df_full['ev_url'] = df_full['ev_url'].fillna(0)"
      ],
      "metadata": {
        "id": "lACOnRGWXn0O"
      },
      "execution_count": 21,
      "outputs": []
    },
    {
      "cell_type": "code",
      "source": [
        "# Расчёт соотношения обращений к конкурентам на оДно обращение в службу поддержки\n",
        "df_full['ev_url'] = df_full['num_competitor_url']  / df_full['num_of_calls']\n",
        "df_full['ev_url'] = df_full['ev_url'].fillna(0)"
      ],
      "metadata": {
        "id": "igunigPifEuL"
      },
      "execution_count": 22,
      "outputs": []
    },
    {
      "cell_type": "code",
      "source": [
        "# расчитаю суммарное количество уникальных обращений в поддержку\n",
        "n_un_log = df_log.groupby('contract_id')['event_type'].nunique()\n",
        "df_full = pd.merge(df_full, n_un_log , on=\"contract_id\", how='left').rename(columns={'event_type_y':'uniq_support_calls'})"
      ],
      "metadata": {
        "id": "FbYzsoZPYblN"
      },
      "execution_count": 23,
      "outputs": []
    },
    {
      "cell_type": "code",
      "source": [
        "# расчитаю суммарное количество уникальных обращений к конкурентам\n",
        "n_un_url = df_named.groupby('contract_id')['url'].nunique()\n",
        "df_full = pd.merge(df_full, n_un_url , on=\"contract_id\", how='left').rename(columns={'url':'uniq_compet_calls'})"
      ],
      "metadata": {
        "id": "euuaebjlbs_y"
      },
      "execution_count": 24,
      "outputs": []
    },
    {
      "cell_type": "code",
      "source": [
        "df_full = df_full.query('num_competitor_url<150')\n",
        "df_full = df_full.query('num_of_calls<20')"
      ],
      "metadata": {
        "id": "rsZUJrxhOW42"
      },
      "execution_count": 25,
      "outputs": []
    },
    {
      "cell_type": "code",
      "source": [
        "sns.pairplot( # матрица диаграмм рассеяния из Seaborn\n",
        "data = df_full, # данные\n",
        "hue = 'blocked', # имя столбца в данных для раскраски меток\n",
        "corner = True # матрица симметрична, не будем выводить лишние графики\n",
        ").fig.suptitle( # настройки заголовка\n",
        "'Зависимости для признаков', # заголовок\n",
        "y = 1.08 # расположение\n",
        ");"
      ],
      "metadata": {
        "id": "EWskRXp3xfsG"
      },
      "execution_count": null,
      "outputs": []
    },
    {
      "cell_type": "code",
      "source": [
        "p = pd.pivot_table(df_log, index = 'contract_id', columns = 'event_type', values = 'event_date', aggfunc='count')"
      ],
      "metadata": {
        "id": "7tGSDxDYVdaF"
      },
      "execution_count": 26,
      "outputs": []
    },
    {
      "cell_type": "code",
      "source": [
        "df_full = pd.merge(df_full, p , on=\"contract_id\", how='left')"
      ],
      "metadata": {
        "id": "unTwgM--iq4k"
      },
      "execution_count": 27,
      "outputs": []
    },
    {
      "cell_type": "code",
      "source": [
        "df_full = df_full.fillna(0)"
      ],
      "metadata": {
        "id": "QT7HR1eoPCfz"
      },
      "execution_count": 28,
      "outputs": []
    },
    {
      "cell_type": "markdown",
      "source": [
        "## Дисбаланс классов"
      ],
      "metadata": {
        "id": "2pBMibDdUzh_"
      }
    },
    {
      "cell_type": "code",
      "execution_count": 142,
      "metadata": {
        "id": "7hSWIu4fqy8W",
        "outputId": "94ffca0a-18d9-4a48-f44b-a06584aee401",
        "colab": {
          "base_uri": "https://localhost:8080/"
        }
      },
      "outputs": [
        {
          "output_type": "execute_result",
          "data": {
            "text/plain": [
              "0    5083\n",
              "1     675\n",
              "Name: blocked, dtype: int64"
            ]
          },
          "metadata": {},
          "execution_count": 142
        }
      ],
      "source": [
        "disbalance = df_full.blocked.value_counts()\n",
        "disbalance"
      ]
    },
    {
      "cell_type": "code",
      "execution_count": 143,
      "metadata": {
        "id": "NcRaKpxjqy8X",
        "outputId": "715470a4-e016-4268-e18d-2adc553379b9",
        "colab": {
          "base_uri": "https://localhost:8080/",
          "height": 427
        }
      },
      "outputs": [
        {
          "output_type": "display_data",
          "data": {
            "text/plain": [
              "<Figure size 504x504 with 1 Axes>"
            ],
            "image/png": "[encoded data removed]"
          },
          "metadata": {}
        }
      ],
      "source": [
        "disbalance.plot(kind='pie',figsize = (7,7))\n",
        "plt.title('Соотношение классов');"
      ]
    },
    {
      "cell_type": "code",
      "source": [
        "df_1 = df_full.loc[df_full['blocked']==1]\n",
        "df_1 = df_1.loc[df_1.index.repeat(7)]\n",
        "df_bal = pd.concat([df_full.loc[df_full['blocked']==0], df_1]).sample(frac=1)"
      ],
      "metadata": {
        "id": "M_PsIK5GVLhN"
      },
      "execution_count": 144,
      "outputs": []
    },
    {
      "cell_type": "code",
      "source": [
        "df_bal.blocked.value_counts()"
      ],
      "metadata": {
        "colab": {
          "base_uri": "https://localhost:8080/"
        },
        "outputId": "c33ccf10-fee8-480a-ae53-63afcb2542c2",
        "id": "DSsDdHVVVLhO"
      },
      "execution_count": 145,
      "outputs": [
        {
          "output_type": "execute_result",
          "data": {
            "text/plain": [
              "0    5083\n",
              "1    4725\n",
              "Name: blocked, dtype: int64"
            ]
          },
          "metadata": {},
          "execution_count": 145
        }
      ]
    },
    {
      "cell_type": "markdown",
      "source": [
        "## Разделение на выборки"
      ],
      "metadata": {
        "id": "J-7Ym3j_VR1s"
      }
    },
    {
      "cell_type": "code",
      "source": [
        "features = df_bal.drop([\"blocked\", 'contract_id'], axis = 1)\n",
        "target = df_bal[[\"blocked\"]]\n"
      ],
      "metadata": {
        "id": "R4fN_sD-dGSG"
      },
      "execution_count": 146,
      "outputs": []
    },
    {
      "cell_type": "code",
      "source": [
        "X_train, X_test, y_train, y_test = train_test_split(features, target, test_size=0.3, random_state=12345)"
      ],
      "metadata": {
        "id": "_e7ZJ3QjdZLW"
      },
      "execution_count": 147,
      "outputs": []
    },
    {
      "cell_type": "code",
      "source": [
        "cat_feat = ['event_type_x']"
      ],
      "metadata": {
        "id": "HZolspSzPKfg"
      },
      "execution_count": 148,
      "outputs": []
    },
    {
      "cell_type": "markdown",
      "source": [
        "## Обучение модели"
      ],
      "metadata": {
        "id": "wWOMlu5megED"
      }
    },
    {
      "cell_type": "code",
      "source": [
        "cbc = cb.CatBoostClassifier(random_state = 12345, cat_features = cat_feat, silent = True)\n",
        "cbc.fit(X_train, y_train)"
      ],
      "metadata": {
        "colab": {
          "base_uri": "https://localhost:8080/"
        },
        "id": "zVFzNrdIAQdU",
        "outputId": "e1d71559-8b83-4449-cc56-40fcc8f40c19"
      },
      "execution_count": 149,
      "outputs": [
        {
          "output_type": "execute_result",
          "data": {
            "text/plain": [
              "<catboost.core.CatBoostClassifier at 0x7f2560ed67d0>"
            ]
          },
          "metadata": {},
          "execution_count": 149
        }
      ]
    },
    {
      "cell_type": "code",
      "source": [
        "pred_cbc = cbc.predict(X_test)\n",
        "print(\"Recall score:\", recall_score(y_test, pred_cbc, average='macro'))"
      ],
      "metadata": {
        "colab": {
          "base_uri": "https://localhost:8080/"
        },
        "id": "-8o1A2oJAZJD",
        "outputId": "5e44645d-66e5-4fdb-f19b-c54e340fc612"
      },
      "execution_count": 150,
      "outputs": [
        {
          "output_type": "stream",
          "name": "stdout",
          "text": [
            "Recall score: 0.7786468330134357\n"
          ]
        }
      ]
    },
    {
      "cell_type": "code",
      "source": [
        "# визуализируем важность признаков\n",
        "cat_iris_imp = pd.Series(cbc.get_feature_importance(),\n",
        "                         df_full.drop([\"blocked\", 'contract_id'], axis = 1).columns)\n",
        "fig, ax = plt.subplots(figsize=(10,8))\n",
        "cat_iris_imp.plot.bar(ax=ax)\n",
        "ax.set_title(\"Важность признаков\")\n",
        "ax.set_ylabel('Важность, %')\n",
        "fig.tight_layout()"
      ],
      "metadata": {
        "colab": {
          "base_uri": "https://localhost:8080/",
          "height": 585
        },
        "id": "g7pmasqGPs8H",
        "outputId": "b08d7b05-c861-4983-8624-21d7b7f30a7f"
      },
      "execution_count": 151,
      "outputs": [
        {
          "output_type": "display_data",
          "data": {
            "text/plain": [
              "<Figure size 720x576 with 1 Axes>"
            ],
            "image/png": "[encoded data removed]"
          },
          "metadata": {
            "needs_background": "light"
          }
        }
      ]
    },
    {
      "cell_type": "code",
      "source": [
        "feat_imp = pd.Series(cbc.get_feature_importance(), df_full.drop([\"blocked\", 'contract_id'], axis = 1).columns)\n",
        "feat_imp = feat_imp[feat_imp>1].index"
      ],
      "metadata": {
        "id": "rmgcJzNLQWQv"
      },
      "execution_count": 152,
      "outputs": []
    },
    {
      "cell_type": "code",
      "source": [
        "feat_imp"
      ],
      "metadata": {
        "colab": {
          "base_uri": "https://localhost:8080/"
        },
        "id": "-boMC6ebQduW",
        "outputId": "96373cdd-7fc2-4fc5-8431-d41dea8e38b9"
      },
      "execution_count": 153,
      "outputs": [
        {
          "output_type": "execute_result",
          "data": {
            "text/plain": [
              "Index(['day_or_month_contract', 'num_of_calls', 'num_competitor_url',\n",
              "       'event_type_x', 'ev_url', 'uniq_support_calls', 'uniq_compet_calls',\n",
              "       'Включение интернета на 20 минут',\n",
              "       'Включение интернета на 20 минут с IVR', 'Внутреннее сообщение',\n",
              "       'Гарантированный платеж за деньги', 'Добавление в Обращались с номеров',\n",
              "       'Информер ВК. Показ', 'Обращение в службу заботы о клиентах',\n",
              "       'Операция с mac-адресом', 'Отключение услуги Аренда ТВ-приставки',\n",
              "       'Предложение ТВ', 'Предложение тарифа', 'Смена тарифа'],\n",
              "      dtype='object')"
            ]
          },
          "metadata": {},
          "execution_count": 153
        }
      ]
    },
    {
      "cell_type": "code",
      "source": [
        "cbc.fit(X_train[feat_imp], y_train)"
      ],
      "metadata": {
        "id": "7M8m4_hycDVD",
        "colab": {
          "base_uri": "https://localhost:8080/"
        },
        "outputId": "e280c97c-a0bb-46f7-affa-dbfff9ccdc86"
      },
      "execution_count": 154,
      "outputs": [
        {
          "output_type": "execute_result",
          "data": {
            "text/plain": [
              "<catboost.core.CatBoostClassifier at 0x7f2560ed67d0>"
            ]
          },
          "metadata": {},
          "execution_count": 154
        }
      ]
    },
    {
      "cell_type": "markdown",
      "source": [
        "## Оценка точности"
      ],
      "metadata": {
        "id": "vUPON7vxenEJ"
      }
    },
    {
      "cell_type": "code",
      "source": [
        "pred_cbc = cbc.predict(X_test[feat_imp])\n",
        "print(\"Recall score:\", recall_score(y_test, pred_cbc, average='macro'))"
      ],
      "metadata": {
        "colab": {
          "base_uri": "https://localhost:8080/"
        },
        "id": "V1XH-1u9cJZm",
        "outputId": "45041ff3-46b0-40bc-f485-493b521c10db"
      },
      "execution_count": 155,
      "outputs": [
        {
          "output_type": "stream",
          "name": "stdout",
          "text": [
            "Recall score: 0.7822046510334084\n"
          ]
        }
      ]
    },
    {
      "cell_type": "markdown",
      "source": [
        "# Получение тестовой выборки"
      ],
      "metadata": {
        "id": "3bdzxSJ_8I-P"
      }
    },
    {
      "cell_type": "code",
      "source": [
        "df_sample_solution = pd.read_csv('/content/drive/MyDrive/Colab_Notebooks/karelia/sample_solution.csv') \n",
        "un_type = df_type_contract.groupby(\"contract_id\").agg('last')\n",
        "df_sample_solution = pd.merge(df_sample_solution, un_type , on=\"contract_id\", how='left')\n",
        "df_sample_solution = pd.merge(df_sample_solution, count_log , on=\"contract_id\", how='left').drop([\"event_date\"],axis =1).rename(columns={'event_type':'num_of_calls'})\n",
        "df_sample_solution = pd.merge(df_sample_solution, count_named , on=\"contract_id\", how='left').drop([\"date\"],axis =1).rename(columns={'url':'num_competitor_url'})"
      ],
      "metadata": {
        "id": "qBD1nPQwQz5C"
      },
      "execution_count": 159,
      "outputs": []
    },
    {
      "cell_type": "code",
      "source": [
        "last_log = df_log.groupby('contract_id').agg('last')\n",
        "df_sample_solution = pd.merge(df_sample_solution, last_log , on=\"contract_id\", how='left').drop([\"event_date\"],axis =1)\n",
        "df_sample_solution = df_sample_solution.fillna(0)\n",
        "df_sample_solution[['day_or_month_contract', 'num_of_calls', 'num_competitor_url']] = df_sample_solution[['day_or_month_contract', 'num_of_calls', 'num_competitor_url']].astype('int')"
      ],
      "metadata": {
        "id": "ZZajRQBP9G10"
      },
      "execution_count": 160,
      "outputs": []
    },
    {
      "cell_type": "code",
      "source": [
        "# Расчёт соотношения обращений к конкурентам на обно обращение в службу поддержки\n",
        "df_sample_solution['ev_url'] = df_sample_solution['num_competitor_url']  / df_sample_solution['num_of_calls']\n",
        "df_sample_solution['ev_url'] = df_sample_solution['ev_url'].fillna(-1)"
      ],
      "metadata": {
        "id": "stW8K5NmaNRG"
      },
      "execution_count": 161,
      "outputs": []
    },
    {
      "cell_type": "code",
      "source": [
        "# расчитаю суммарное количество уникальных обращений в поддержку\n",
        "df_sample_solution = pd.merge(df_sample_solution, n_un_log , on=\"contract_id\", how='left').rename(columns={'event_type_y':'uniq_support_calls'})"
      ],
      "metadata": {
        "id": "VCIq5gQTaNRG"
      },
      "execution_count": 162,
      "outputs": []
    },
    {
      "cell_type": "code",
      "source": [
        "# расчитаю суммарное количество уникальных обращений к конкурентам\n",
        "df_sample_solution = pd.merge(df_sample_solution, n_un_url , on=\"contract_id\", how='left').rename(columns={'url':'uniq_compet_calls'})"
      ],
      "metadata": {
        "id": "7P-QiFLbUz95"
      },
      "execution_count": 163,
      "outputs": []
    },
    {
      "cell_type": "code",
      "source": [
        "p = pd.pivot_table(df_log, index = 'contract_id', columns = 'event_type', values = 'event_date', aggfunc='count')"
      ],
      "metadata": {
        "id": "__yAlS8tnbFi"
      },
      "execution_count": 164,
      "outputs": []
    },
    {
      "cell_type": "code",
      "source": [
        "df_sample_solution = pd.merge(df_sample_solution, p , on=\"contract_id\", how='left')"
      ],
      "metadata": {
        "id": "Da-qeg8QnbFj"
      },
      "execution_count": 165,
      "outputs": []
    },
    {
      "cell_type": "code",
      "source": [
        "df_sample_solution = df_sample_solution.fillna(0)"
      ],
      "metadata": {
        "id": "vEif29WJaNRI"
      },
      "execution_count": 166,
      "outputs": []
    },
    {
      "cell_type": "markdown",
      "source": [
        "# Предсказание"
      ],
      "metadata": {
        "id": "D9tMKwYq4XVa"
      }
    },
    {
      "cell_type": "code",
      "source": [
        "from sklearn.utils import shuffle"
      ],
      "metadata": {
        "id": "2sdVv7YyMsYb"
      },
      "execution_count": 42,
      "outputs": []
    },
    {
      "cell_type": "code",
      "source": [
        "features = df_bal.drop([\"blocked\", 'contract_id'], axis = 1)\n",
        "target = df_bal[[\"blocked\"]]"
      ],
      "metadata": {
        "id": "2mu3Dot8TlGH"
      },
      "execution_count": 131,
      "outputs": []
    },
    {
      "cell_type": "code",
      "source": [
        "features = df_bal[feat_imp]\n",
        "target = df_bal[[\"blocked\"]]"
      ],
      "metadata": {
        "id": "poqd_9u_gQIE"
      },
      "execution_count": 156,
      "outputs": []
    },
    {
      "cell_type": "code",
      "source": [
        "features[cat_feat].isna().sum()"
      ],
      "metadata": {
        "colab": {
          "base_uri": "https://localhost:8080/"
        },
        "id": "SHzN-8OxM5ny",
        "outputId": "490c71e1-f274-4468-fb55-3e4569eb7b32"
      },
      "execution_count": 93,
      "outputs": [
        {
          "output_type": "execute_result",
          "data": {
            "text/plain": [
              "event_type_x    0\n",
              "dtype: int64"
            ]
          },
          "metadata": {},
          "execution_count": 93
        }
      ]
    },
    {
      "cell_type": "code",
      "source": [
        "cbc = cb.CatBoostClassifier(random_state = 12345, cat_features = cat_feat)\n",
        "cbc.fit(features, target)"
      ],
      "metadata": {
        "id": "S3E3o_N14OQ6"
      },
      "execution_count": null,
      "outputs": []
    },
    {
      "cell_type": "code",
      "source": [
        "features_test = df_sample_solution[feat_imp]"
      ],
      "metadata": {
        "id": "1U1bCB4TVxsV"
      },
      "execution_count": 168,
      "outputs": []
    },
    {
      "cell_type": "code",
      "source": [
        "features_test = df_sample_solution.drop([\"blocked\", 'contract_id'], axis = 1)"
      ],
      "metadata": {
        "id": "lAx4wZiH4krC"
      },
      "execution_count": 135,
      "outputs": []
    },
    {
      "cell_type": "code",
      "source": [
        "df_sample_solution[\"blocked\"] = cbc.predict(features_test)"
      ],
      "metadata": {
        "id": "DMkbWob54jNi"
      },
      "execution_count": 169,
      "outputs": []
    },
    {
      "cell_type": "code",
      "source": [
        "df_sample_solution = df_sample_solution[['contract_id','blocked']]"
      ],
      "metadata": {
        "id": "S_PA1IY-91QD"
      },
      "execution_count": 171,
      "outputs": []
    },
    {
      "cell_type": "code",
      "source": [
        "df_sample_solution.to_csv(\"/content/submission_10.csv\", index= False)"
      ],
      "metadata": {
        "id": "8HIkJ-UV4zog"
      },
      "execution_count": 172,
      "outputs": []
    }
  ]
}
